{
 "cells": [
  {
   "cell_type": "markdown",
   "metadata": {
    "pycharm": {
     "name": "#%% md\n"
    }
   },
   "source": [
    "# Image Labelling"
   ]
  },
  {
   "cell_type": "code",
   "execution_count": 6,
   "metadata": {
    "pycharm": {
     "name": "#%%\n"
    }
   },
   "outputs": [
    {
     "name": "stdout",
     "output_type": "stream",
     "text": [
      "Collecting pyqt5\n",
      "  Downloading PyQt5-5.15.6-cp36-abi3-win_amd64.whl (6.7 MB)\n",
      "     ---------------------------------------- 6.7/6.7 MB 4.5 MB/s eta 0:00:00\n",
      "Collecting lxml\n",
      "  Downloading lxml-4.9.0-cp39-cp39-win_amd64.whl (3.6 MB)\n",
      "     ---------------------------------------- 3.6/3.6 MB 3.7 MB/s eta 0:00:00\n",
      "Collecting PyQt5-sip<13,>=12.8\n",
      "  Downloading PyQt5_sip-12.10.1-cp39-cp39-win_amd64.whl (77 kB)\n",
      "     ---------------------------------------- 77.8/77.8 kB 1.1 MB/s eta 0:00:00\n",
      "Collecting PyQt5-Qt5>=5.15.2\n",
      "  Downloading PyQt5_Qt5-5.15.2-py3-none-win_amd64.whl (50.1 MB)\n",
      "     ---------------------------------------- 50.1/50.1 MB 2.6 MB/s eta 0:00:00\n",
      "Installing collected packages: PyQt5-Qt5, PyQt5-sip, lxml, pyqt5\n",
      "Successfully installed PyQt5-Qt5-5.15.2 PyQt5-sip-12.10.1 lxml-4.9.0 pyqt5-5.15.6\n"
     ]
    }
   ],
   "source": [
    "!pip install --upgrade pyqt5 lxml"
   ]
  },
  {
   "cell_type": "code",
   "execution_count": 4,
   "metadata": {
    "pycharm": {
     "name": "#%%\n"
    }
   },
   "outputs": [],
   "source": [
    "import os\n",
    "LABELIMG_PATH = os.path.join('Tensorflow', 'labelimg')"
   ]
  },
  {
   "cell_type": "code",
   "execution_count": 4,
   "metadata": {
    "pycharm": {
     "name": "#%%\n"
    }
   },
   "outputs": [
    {
     "name": "stderr",
     "output_type": "stream",
     "text": [
      "Cloning into 'Tensorflow\\labelimg'...\n"
     ]
    }
   ],
   "source": [
    "if not os.path.exists(LABELIMG_PATH):\n",
    "    !mkdir {LABELIMG_PATH}\n",
    "    !git clone https://github.com/tzutalin/labelImg {LABELIMG_PATH}"
   ]
  },
  {
   "cell_type": "code",
   "execution_count": 6,
   "metadata": {
    "pycharm": {
     "name": "#%%\n"
    }
   },
   "outputs": [],
   "source": [
    "if os.name == 'posix':\n",
    "    !cd {LABELIMG_PATH} && make qt5py3\n",
    "if os.name =='nt':\n",
    "    !cd {LABELIMG_PATH} && pyrcc5 -o libs/resources.py resources.qrc"
   ]
  },
  {
   "cell_type": "code",
   "execution_count": 5,
   "metadata": {
    "pycharm": {
     "name": "#%%\n"
    }
   },
   "outputs": [
    {
     "name": "stdout",
     "output_type": "stream",
     "text": [
      "Image:C:\\Users\\Eddie\\Python Machine Learning\\Tensorflow Object Detection\\TFODCourse\\Tensorflow\\workspace\\images\\train\\DSC_3515.JPG -> Annotation:C:/Users/Eddie/Python Machine Learning/Tensorflow Object Detection/TFODCourse/Tensorflow/workspace/images/train\\DSC_3515.xml\n",
      "Image:C:\\Users\\Eddie\\Python Machine Learning\\Tensorflow Object Detection\\TFODCourse\\Tensorflow\\workspace\\images\\train\\DSC_3516.JPG -> Annotation:C:/Users/Eddie/Python Machine Learning/Tensorflow Object Detection/TFODCourse/Tensorflow/workspace/images/train\\DSC_3516.xml\n",
      "Image:C:\\Users\\Eddie\\Python Machine Learning\\Tensorflow Object Detection\\TFODCourse\\Tensorflow\\workspace\\images\\train\\DSC_3518.JPG -> Annotation:C:/Users/Eddie/Python Machine Learning/Tensorflow Object Detection/TFODCourse/Tensorflow/workspace/images/train\\DSC_3518.xml\n",
      "Image:C:\\Users\\Eddie\\Python Machine Learning\\Tensorflow Object Detection\\TFODCourse\\Tensorflow\\workspace\\images\\train\\DSC_3520.JPG -> Annotation:C:/Users/Eddie/Python Machine Learning/Tensorflow Object Detection/TFODCourse/Tensorflow/workspace/images/train\\DSC_3520.xml\n",
      "Image:C:\\Users\\Eddie\\Python Machine Learning\\Tensorflow Object Detection\\TFODCourse\\Tensorflow\\workspace\\images\\train\\DSC_3521.JPG -> Annotation:C:/Users/Eddie/Python Machine Learning/Tensorflow Object Detection/TFODCourse/Tensorflow/workspace/images/train\\DSC_3521.xml\n",
      "Image:C:\\Users\\Eddie\\Python Machine Learning\\Tensorflow Object Detection\\TFODCourse\\Tensorflow\\workspace\\images\\train\\DSC_3522.JPG -> Annotation:C:/Users/Eddie/Python Machine Learning/Tensorflow Object Detection/TFODCourse/Tensorflow/workspace/images/train\\DSC_3522.xml\n",
      "Image:C:\\Users\\Eddie\\Python Machine Learning\\Tensorflow Object Detection\\TFODCourse\\Tensorflow\\workspace\\images\\train\\DSC_3524.JPG -> Annotation:C:/Users/Eddie/Python Machine Learning/Tensorflow Object Detection/TFODCourse/Tensorflow/workspace/images/train\\DSC_3524.xml\n",
      "Image:C:\\Users\\Eddie\\Python Machine Learning\\Tensorflow Object Detection\\TFODCourse\\Tensorflow\\workspace\\images\\train\\DSC_3527.JPG -> Annotation:C:/Users/Eddie/Python Machine Learning/Tensorflow Object Detection/TFODCourse/Tensorflow/workspace/images/train\\DSC_3527.xml\n",
      "Image:C:\\Users\\Eddie\\Python Machine Learning\\Tensorflow Object Detection\\TFODCourse\\Tensorflow\\workspace\\images\\train\\DSC_3528.JPG -> Annotation:C:/Users/Eddie/Python Machine Learning/Tensorflow Object Detection/TFODCourse/Tensorflow/workspace/images/train\\DSC_3528.xml\n",
      "Image:C:\\Users\\Eddie\\Python Machine Learning\\Tensorflow Object Detection\\TFODCourse\\Tensorflow\\workspace\\images\\train\\DSC_3531.JPG -> Annotation:C:/Users/Eddie/Python Machine Learning/Tensorflow Object Detection/TFODCourse/Tensorflow/workspace/images/train\\DSC_3531.xml\n",
      "Image:C:\\Users\\Eddie\\Python Machine Learning\\Tensorflow Object Detection\\TFODCourse\\Tensorflow\\workspace\\images\\train\\DSC_3532.JPG -> Annotation:C:/Users/Eddie/Python Machine Learning/Tensorflow Object Detection/TFODCourse/Tensorflow/workspace/images/train\\DSC_3532.xml\n",
      "Image:C:\\Users\\Eddie\\Python Machine Learning\\Tensorflow Object Detection\\TFODCourse\\Tensorflow\\workspace\\images\\train\\DSC_3533.JPG -> Annotation:C:/Users/Eddie/Python Machine Learning/Tensorflow Object Detection/TFODCourse/Tensorflow/workspace/images/train\\DSC_3533.xml\n",
      "Image:C:\\Users\\Eddie\\Python Machine Learning\\Tensorflow Object Detection\\TFODCourse\\Tensorflow\\workspace\\images\\train\\DSC_3534.JPG -> Annotation:C:/Users/Eddie/Python Machine Learning/Tensorflow Object Detection/TFODCourse/Tensorflow/workspace/images/train\\DSC_3534.xml\n",
      "Image:C:\\Users\\Eddie\\Python Machine Learning\\Tensorflow Object Detection\\TFODCourse\\Tensorflow\\workspace\\images\\train\\DSC_3535.JPG -> Annotation:C:/Users/Eddie/Python Machine Learning/Tensorflow Object Detection/TFODCourse/Tensorflow/workspace/images/train\\DSC_3535.xml\n",
      "Image:C:\\Users\\Eddie\\Python Machine Learning\\Tensorflow Object Detection\\TFODCourse\\Tensorflow\\workspace\\images\\train\\DSC_3537.JPG -> Annotation:C:/Users/Eddie/Python Machine Learning/Tensorflow Object Detection/TFODCourse/Tensorflow/workspace/images/train\\DSC_3537.xml\n",
      "Image:C:\\Users\\Eddie\\Python Machine Learning\\Tensorflow Object Detection\\TFODCourse\\Tensorflow\\workspace\\images\\train\\DSC_3538.JPG -> Annotation:C:/Users/Eddie/Python Machine Learning/Tensorflow Object Detection/TFODCourse/Tensorflow/workspace/images/train\\DSC_3538.xml\n",
      "Image:C:\\Users\\Eddie\\Python Machine Learning\\Tensorflow Object Detection\\TFODCourse\\Tensorflow\\workspace\\images\\train\\DSC_3539.JPG -> Annotation:C:/Users/Eddie/Python Machine Learning/Tensorflow Object Detection/TFODCourse/Tensorflow/workspace/images/train\\DSC_3539.xml\n",
      "Image:C:\\Users\\Eddie\\Python Machine Learning\\Tensorflow Object Detection\\TFODCourse\\Tensorflow\\workspace\\images\\train\\DSC_3542.JPG -> Annotation:C:/Users/Eddie/Python Machine Learning/Tensorflow Object Detection/TFODCourse/Tensorflow/workspace/images/train\\DSC_3542.xml\n",
      "Image:C:\\Users\\Eddie\\Python Machine Learning\\Tensorflow Object Detection\\TFODCourse\\Tensorflow\\workspace\\images\\train\\DSC_3543.JPG -> Annotation:C:/Users/Eddie/Python Machine Learning/Tensorflow Object Detection/TFODCourse/Tensorflow/workspace/images/train\\DSC_3543.xml\n",
      "Image:C:\\Users\\Eddie\\Python Machine Learning\\Tensorflow Object Detection\\TFODCourse\\Tensorflow\\workspace\\images\\train\\DSC_3544.JPG -> Annotation:C:/Users/Eddie/Python Machine Learning/Tensorflow Object Detection/TFODCourse/Tensorflow/workspace/images/train\\DSC_3544.xml\n",
      "Image:C:\\Users\\Eddie\\Python Machine Learning\\Tensorflow Object Detection\\TFODCourse\\Tensorflow\\workspace\\images\\train\\DSC_3545.JPG -> Annotation:C:/Users/Eddie/Python Machine Learning/Tensorflow Object Detection/TFODCourse/Tensorflow/workspace/images/train\\DSC_3545.xml\n",
      "Image:C:\\Users\\Eddie\\Python Machine Learning\\Tensorflow Object Detection\\TFODCourse\\Tensorflow\\workspace\\images\\train\\DSC_3546.JPG -> Annotation:C:/Users/Eddie/Python Machine Learning/Tensorflow Object Detection/TFODCourse/Tensorflow/workspace/images/train\\DSC_3546.xml\n",
      "Image:C:\\Users\\Eddie\\Python Machine Learning\\Tensorflow Object Detection\\TFODCourse\\Tensorflow\\workspace\\images\\train\\DSC_3547.JPG -> Annotation:C:/Users/Eddie/Python Machine Learning/Tensorflow Object Detection/TFODCourse/Tensorflow/workspace/images/train\\DSC_3547.xml\n",
      "Image:C:\\Users\\Eddie\\Python Machine Learning\\Tensorflow Object Detection\\TFODCourse\\Tensorflow\\workspace\\images\\train\\DSC_3548.JPG -> Annotation:C:/Users/Eddie/Python Machine Learning/Tensorflow Object Detection/TFODCourse/Tensorflow/workspace/images/train\\DSC_3548.xml\n",
      "Image:C:\\Users\\Eddie\\Python Machine Learning\\Tensorflow Object Detection\\TFODCourse\\Tensorflow\\workspace\\images\\train\\DSC_3549.JPG -> Annotation:C:/Users/Eddie/Python Machine Learning/Tensorflow Object Detection/TFODCourse/Tensorflow/workspace/images/train\\DSC_3549.xml\n",
      "Image:C:\\Users\\Eddie\\Python Machine Learning\\Tensorflow Object Detection\\TFODCourse\\Tensorflow\\workspace\\images\\train\\DSC_3550.JPG -> Annotation:C:/Users/Eddie/Python Machine Learning/Tensorflow Object Detection/TFODCourse/Tensorflow/workspace/images/train\\DSC_3550.xml\n",
      "Image:C:\\Users\\Eddie\\Python Machine Learning\\Tensorflow Object Detection\\TFODCourse\\Tensorflow\\workspace\\images\\train\\DSC_3551.JPG -> Annotation:C:/Users/Eddie/Python Machine Learning/Tensorflow Object Detection/TFODCourse/Tensorflow/workspace/images/train\\DSC_3551.xml\n",
      "Image:C:\\Users\\Eddie\\Python Machine Learning\\Tensorflow Object Detection\\TFODCourse\\Tensorflow\\workspace\\images\\train\\DSC_3552.JPG -> Annotation:C:/Users/Eddie/Python Machine Learning/Tensorflow Object Detection/TFODCourse/Tensorflow/workspace/images/train\\DSC_3552.xml\n",
      "Image:C:\\Users\\Eddie\\Python Machine Learning\\Tensorflow Object Detection\\TFODCourse\\Tensorflow\\workspace\\images\\train\\DSC_3553.JPG -> Annotation:C:/Users/Eddie/Python Machine Learning/Tensorflow Object Detection/TFODCourse/Tensorflow/workspace/images/train\\DSC_3553.xml\n",
      "Image:C:\\Users\\Eddie\\Python Machine Learning\\Tensorflow Object Detection\\TFODCourse\\Tensorflow\\workspace\\images\\train\\DSC_3554.JPG -> Annotation:C:/Users/Eddie/Python Machine Learning/Tensorflow Object Detection/TFODCourse/Tensorflow/workspace/images/train\\DSC_3554.xml\n",
      "Image:C:\\Users\\Eddie\\Python Machine Learning\\Tensorflow Object Detection\\TFODCourse\\Tensorflow\\workspace\\images\\train\\DSC_3555.JPG -> Annotation:C:/Users/Eddie/Python Machine Learning/Tensorflow Object Detection/TFODCourse/Tensorflow/workspace/images/train\\DSC_3555.xml\n",
      "Image:C:\\Users\\Eddie\\Python Machine Learning\\Tensorflow Object Detection\\TFODCourse\\Tensorflow\\workspace\\images\\train\\DSC_3556.JPG -> Annotation:C:/Users/Eddie/Python Machine Learning/Tensorflow Object Detection/TFODCourse/Tensorflow/workspace/images/train\\DSC_3556.xml\n",
      "Image:C:\\Users\\Eddie\\Python Machine Learning\\Tensorflow Object Detection\\TFODCourse\\Tensorflow\\workspace\\images\\train\\DSC_3557.JPG -> Annotation:C:/Users/Eddie/Python Machine Learning/Tensorflow Object Detection/TFODCourse/Tensorflow/workspace/images/train\\DSC_3557.xml\n",
      "Image:C:\\Users\\Eddie\\Python Machine Learning\\Tensorflow Object Detection\\TFODCourse\\Tensorflow\\workspace\\images\\train\\DSC_3558.JPG -> Annotation:C:/Users/Eddie/Python Machine Learning/Tensorflow Object Detection/TFODCourse/Tensorflow/workspace/images/train\\DSC_3558.xml\n",
      "Image:C:\\Users\\Eddie\\Python Machine Learning\\Tensorflow Object Detection\\TFODCourse\\Tensorflow\\workspace\\images\\train\\DSC_3559.JPG -> Annotation:C:/Users/Eddie/Python Machine Learning/Tensorflow Object Detection/TFODCourse/Tensorflow/workspace/images/train\\DSC_3559.xml\n",
      "Image:C:\\Users\\Eddie\\Python Machine Learning\\Tensorflow Object Detection\\TFODCourse\\Tensorflow\\workspace\\images\\train\\DSC_3560.JPG -> Annotation:C:/Users/Eddie/Python Machine Learning/Tensorflow Object Detection/TFODCourse/Tensorflow/workspace/images/train\\DSC_3560.xml\n",
      "Image:C:\\Users\\Eddie\\Python Machine Learning\\Tensorflow Object Detection\\TFODCourse\\Tensorflow\\workspace\\images\\train\\DSC_3561.JPG -> Annotation:C:/Users/Eddie/Python Machine Learning/Tensorflow Object Detection/TFODCourse/Tensorflow/workspace/images/train\\DSC_3561.xml\n",
      "Image:C:\\Users\\Eddie\\Python Machine Learning\\Tensorflow Object Detection\\TFODCourse\\Tensorflow\\workspace\\images\\train\\DSC_3562.JPG -> Annotation:C:/Users/Eddie/Python Machine Learning/Tensorflow Object Detection/TFODCourse/Tensorflow/workspace/images/train\\DSC_3562.xml\n",
      "Image:C:\\Users\\Eddie\\Python Machine Learning\\Tensorflow Object Detection\\TFODCourse\\Tensorflow\\workspace\\images\\train\\DSC_3563.JPG -> Annotation:C:/Users/Eddie/Python Machine Learning/Tensorflow Object Detection/TFODCourse/Tensorflow/workspace/images/train\\DSC_3563.xml\n",
      "Image:C:\\Users\\Eddie\\Python Machine Learning\\Tensorflow Object Detection\\TFODCourse\\Tensorflow\\workspace\\images\\train\\DSC_3564.JPG -> Annotation:C:/Users/Eddie/Python Machine Learning/Tensorflow Object Detection/TFODCourse/Tensorflow/workspace/images/train\\DSC_3564.xml\n",
      "Image:C:\\Users\\Eddie\\Python Machine Learning\\Tensorflow Object Detection\\TFODCourse\\Tensorflow\\workspace\\images\\train\\DSC_3565.JPG -> Annotation:C:/Users/Eddie/Python Machine Learning/Tensorflow Object Detection/TFODCourse/Tensorflow/workspace/images/train\\DSC_3565.xml\n",
      "Image:C:\\Users\\Eddie\\Python Machine Learning\\Tensorflow Object Detection\\TFODCourse\\Tensorflow\\workspace\\images\\train\\DSC_3571.JPG -> Annotation:C:/Users/Eddie/Python Machine Learning/Tensorflow Object Detection/TFODCourse/Tensorflow/workspace/images/train\\DSC_3571.xml\n",
      "Image:C:\\Users\\Eddie\\Python Machine Learning\\Tensorflow Object Detection\\TFODCourse\\Tensorflow\\workspace\\images\\train\\DSC_3572.JPG -> Annotation:C:/Users/Eddie/Python Machine Learning/Tensorflow Object Detection/TFODCourse/Tensorflow/workspace/images/train\\DSC_3572.xml\n",
      "Image:C:\\Users\\Eddie\\Python Machine Learning\\Tensorflow Object Detection\\TFODCourse\\Tensorflow\\workspace\\images\\train\\DSC_3573.JPG -> Annotation:C:/Users/Eddie/Python Machine Learning/Tensorflow Object Detection/TFODCourse/Tensorflow/workspace/images/train\\DSC_3573.xml\n",
      "Image:C:\\Users\\Eddie\\Python Machine Learning\\Tensorflow Object Detection\\TFODCourse\\Tensorflow\\workspace\\images\\train\\DSC_3574.JPG -> Annotation:C:/Users/Eddie/Python Machine Learning/Tensorflow Object Detection/TFODCourse/Tensorflow/workspace/images/train\\DSC_3574.xml\n",
      "Image:C:\\Users\\Eddie\\Python Machine Learning\\Tensorflow Object Detection\\TFODCourse\\Tensorflow\\workspace\\images\\train\\DSC_3575.JPG -> Annotation:C:/Users/Eddie/Python Machine Learning/Tensorflow Object Detection/TFODCourse/Tensorflow/workspace/images/train\\DSC_3575.xml\n",
      "Image:C:\\Users\\Eddie\\Python Machine Learning\\Tensorflow Object Detection\\TFODCourse\\Tensorflow\\workspace\\images\\train\\DSC_3576.JPG -> Annotation:C:/Users/Eddie/Python Machine Learning/Tensorflow Object Detection/TFODCourse/Tensorflow/workspace/images/train\\DSC_3576.xml\n",
      "Cancel creation.\n",
      "Image:C:\\Users\\Eddie\\Python Machine Learning\\Tensorflow Object Detection\\TFODCourse\\Tensorflow\\workspace\\images\\train\\DSC_3577.JPG -> Annotation:C:/Users/Eddie/Python Machine Learning/Tensorflow Object Detection/TFODCourse/Tensorflow/workspace/images/train\\DSC_3577.xml\n",
      "Image:C:\\Users\\Eddie\\Python Machine Learning\\Tensorflow Object Detection\\TFODCourse\\Tensorflow\\workspace\\images\\train\\DSC_3578.JPG -> Annotation:C:/Users/Eddie/Python Machine Learning/Tensorflow Object Detection/TFODCourse/Tensorflow/workspace/images/train\\DSC_3578.xml\n",
      "Image:C:\\Users\\Eddie\\Python Machine Learning\\Tensorflow Object Detection\\TFODCourse\\Tensorflow\\workspace\\images\\train\\DSC_3579.JPG -> Annotation:C:/Users/Eddie/Python Machine Learning/Tensorflow Object Detection/TFODCourse/Tensorflow/workspace/images/train\\DSC_3579.xml\n",
      "Image:C:\\Users\\Eddie\\Python Machine Learning\\Tensorflow Object Detection\\TFODCourse\\Tensorflow\\workspace\\images\\train\\DSC_3583.JPG -> Annotation:C:/Users/Eddie/Python Machine Learning/Tensorflow Object Detection/TFODCourse/Tensorflow/workspace/images/train\\DSC_3583.xml\n",
      "Image:C:\\Users\\Eddie\\Python Machine Learning\\Tensorflow Object Detection\\TFODCourse\\Tensorflow\\workspace\\images\\train\\DSC_3583.JPG -> Annotation:C:/Users/Eddie/Python Machine Learning/Tensorflow Object Detection/TFODCourse/Tensorflow/workspace/images/train\\DSC_3583.xml\n",
      "Image:C:\\Users\\Eddie\\Python Machine Learning\\Tensorflow Object Detection\\TFODCourse\\Tensorflow\\workspace\\images\\train\\DSC_3584.JPG -> Annotation:C:/Users/Eddie/Python Machine Learning/Tensorflow Object Detection/TFODCourse/Tensorflow/workspace/images/train\\DSC_3584.xml\n",
      "Image:C:\\Users\\Eddie\\Python Machine Learning\\Tensorflow Object Detection\\TFODCourse\\Tensorflow\\workspace\\images\\train\\DSC_3585.JPG -> Annotation:C:/Users/Eddie/Python Machine Learning/Tensorflow Object Detection/TFODCourse/Tensorflow/workspace/images/train\\DSC_3585.xml\n",
      "Image:C:\\Users\\Eddie\\Python Machine Learning\\Tensorflow Object Detection\\TFODCourse\\Tensorflow\\workspace\\images\\train\\DSC_3586.JPG -> Annotation:C:/Users/Eddie/Python Machine Learning/Tensorflow Object Detection/TFODCourse/Tensorflow/workspace/images/train\\DSC_3586.xml\n",
      "Image:C:\\Users\\Eddie\\Python Machine Learning\\Tensorflow Object Detection\\TFODCourse\\Tensorflow\\workspace\\images\\train\\DSC_3587.JPG -> Annotation:C:/Users/Eddie/Python Machine Learning/Tensorflow Object Detection/TFODCourse/Tensorflow/workspace/images/train\\DSC_3587.xml\n",
      "Image:C:\\Users\\Eddie\\Python Machine Learning\\Tensorflow Object Detection\\TFODCourse\\Tensorflow\\workspace\\images\\train\\DSC_3588.JPG -> Annotation:C:/Users/Eddie/Python Machine Learning/Tensorflow Object Detection/TFODCourse/Tensorflow/workspace/images/train\\DSC_3588.xml\n",
      "Cancel creation.\n",
      "Image:C:\\Users\\Eddie\\Python Machine Learning\\Tensorflow Object Detection\\TFODCourse\\Tensorflow\\workspace\\images\\train\\DSC_3589.JPG -> Annotation:C:/Users/Eddie/Python Machine Learning/Tensorflow Object Detection/TFODCourse/Tensorflow/workspace/images/train\\DSC_3589.xml\n"
     ]
    }
   ],
   "source": [
    "!cd {LABELIMG_PATH} && python labelImg.py"
   ]
  },
  {
   "cell_type": "code",
   "execution_count": 1,
   "metadata": {
    "pycharm": {
     "name": "#%%\n"
    }
   },
   "outputs": [],
   "source": [
    "import os\n",
    "import cv2\n",
    "# mode = \"test\" or mode = \"train\"\n",
    "def resize(mode):\n",
    "\n",
    "    path =  os.path.join('Tensorflow', 'workspace', 'images', mode, f\"high qual_{mode}\")\n",
    "\n",
    "    for image in os.listdir(path):\n",
    "        image_name = image.split(\".\")[0]\n",
    "        image_path = os.path.join('Tensorflow', 'workspace', 'images', mode, f\"high qual_{mode}\",image)\n",
    "        imagee  = cv2.imread(image_path)\n",
    "        imagee = cv2.resize(imagee, (180, 120))\n",
    "        cv2.imwrite(f\"Tensorflow/workspace/images/{mode}/{image_name}.JPG\", imagee)\n",
    "        \n"
   ]
  },
  {
   "cell_type": "code",
   "execution_count": 2,
   "metadata": {
    "pycharm": {
     "name": "#%%\n"
    }
   },
   "outputs": [],
   "source": [
    "resize(\"train\")"
   ]
  },
  {
   "cell_type": "markdown",
   "metadata": {
    "pycharm": {
     "name": "#%% md\n"
    }
   },
   "source": [
    "# 6. Move them into a Training and Testing Partition"
   ]
  },
  {
   "cell_type": "markdown",
   "metadata": {
    "pycharm": {
     "name": "#%% md\n"
    }
   },
   "source": [
    "# OPTIONAL - 7. Compress them for Colab Training"
   ]
  },
  {
   "cell_type": "code",
   "execution_count": 6,
   "metadata": {
    "pycharm": {
     "name": "#%%\n"
    }
   },
   "outputs": [],
   "source": [
    "TRAIN_PATH = os.path.join('Tensorflow', 'workspace', 'images', 'train')\n",
    "TEST_PATH = os.path.join('Tensorflow', 'workspace', 'images', 'test')\n",
    "ARCHIVE_PATH = os.path.join('Tensorflow', 'workspace', 'images', 'archive.tar.gz')"
   ]
  },
  {
   "cell_type": "code",
   "execution_count": 7,
   "metadata": {
    "pycharm": {
     "name": "#%%\n"
    }
   },
   "outputs": [],
   "source": [
    "!tar -czf {ARCHIVE_PATH} {TRAIN_PATH} {TEST_PATH}"
   ]
  },
  {
   "cell_type": "code",
   "execution_count": null,
   "metadata": {
    "pycharm": {
     "name": "#%%\n"
    }
   },
   "outputs": [],
   "source": []
  }
 ],
 "metadata": {
  "kernelspec": {
   "display_name": "tfod",
   "language": "python",
   "name": "tfod"
  },
  "language_info": {
   "codemirror_mode": {
    "name": "ipython",
    "version": 3
   },
   "file_extension": ".py",
   "mimetype": "text/x-python",
   "name": "python",
   "nbconvert_exporter": "python",
   "pygments_lexer": "ipython3",
   "version": "3.9.6"
  }
 },
 "nbformat": 4,
 "nbformat_minor": 2
}